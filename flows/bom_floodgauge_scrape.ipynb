{
 "cells": [
  {
   "cell_type": "code",
   "execution_count": null,
   "metadata": {},
   "outputs": [
    {
     "name": "stderr",
     "output_type": "stream",
     "text": [
      "[2025-01-15 08:01:19] INFO: Fetched (200) <GET http://www.bom.gov.au/cgi-bin/wrap_fwo.pl?IDQ60005.html> (referer: https://www.google.com/search?q=bom)\n"
     ]
    },
    {
     "name": "stdout",
     "output_type": "stream",
     "text": [
      "<class 'scrapling.engines.toolbelt.custom.Response'>\n"
     ]
    }
   ],
   "source": [
    "from scrapling import Fetcher\n",
    "page = Fetcher().get('http://www.bom.gov.au/cgi-bin/wrap_fwo.pl?IDQ60005.html', stealthy_headers=True, follow_redirects=True)\n",
    "\n",
    "#print the type of the page\n",
    "print(type(page))\n",
    "\n",
    "#convert page to string\n",
    "page = str(page)"
   ]
  },
  {
   "cell_type": "code",
   "execution_count": 1,
   "metadata": {},
   "outputs": [
    {
     "ename": "SyntaxError",
     "evalue": "invalid syntax (2463990921.py, line 38)",
     "output_type": "error",
     "traceback": [
      "\u001b[1;36m  Cell \u001b[1;32mIn[1], line 38\u001b[1;36m\u001b[0m\n\u001b[1;33m    ```\u001b[0m\n\u001b[1;37m    ^\u001b[0m\n\u001b[1;31mSyntaxError\u001b[0m\u001b[1;31m:\u001b[0m invalid syntax\n"
     ]
    }
   ],
   "source": [
    "from bs4 import BeautifulSoup\n",
    "import pandas as pd\n",
    "\n",
    "#convert page to string\n",
    "page_str = str(page)\n",
    "\n",
    "page_soup = BeautifulSoup(page_str, \"html.parser\")\n",
    "\n",
    "# Find the table (assuming there's only one table in the HTML)\n",
    "table = page_soup.find(\"table\")\n",
    "\n",
    "all_rows = []  # will hold lists of cell values\n",
    "\n",
    "for tr in table.find_all(\"tr\"):\n",
    "    # Gather all cells (td/th) in this row\n",
    "    cells = tr.find_all([\"td\", \"th\"])\n",
    "    \n",
    "    # Skip row if any cell has a colspan\n",
    "    # (You could also check for rowspan if needed)\n",
    "    skip_row = any(cell.has_attr(\"colspan\") for cell in cells)\n",
    "    if skip_row:\n",
    "        continue\n",
    "\n",
    "    # Extract the text from each cell in the row\n",
    "    row_data = [cell.get_text(strip=True) for cell in cells]\n",
    "    \n",
    "    # You mention the table has 7 columns, so only keep rows that have 7 cells\n",
    "    if len(row_data) == 7:\n",
    "        all_rows.append(row_data)\n",
    "\n",
    "# Assuming the first row is the header\n",
    "df = pd.DataFrame(all_rows[1:], columns=all_rows[0])\n",
    "\n",
    "print(df)\n",
    "\n",
    "#export to csv\n",
    "df.to_csv('flood.csv', index=False)\n"
   ]
  }
 ],
 "metadata": {
  "kernelspec": {
   "display_name": "Python 3",
   "language": "python",
   "name": "python3"
  },
  "language_info": {
   "codemirror_mode": {
    "name": "ipython",
    "version": 3
   },
   "file_extension": ".py",
   "mimetype": "text/x-python",
   "name": "python",
   "nbconvert_exporter": "python",
   "pygments_lexer": "ipython3",
   "version": "3.12.2"
  }
 },
 "nbformat": 4,
 "nbformat_minor": 2
}
